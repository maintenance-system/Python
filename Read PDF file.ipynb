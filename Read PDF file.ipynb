{
 "cells": [
  {
   "cell_type": "code",
   "execution_count": 2,
   "id": "d9389312",
   "metadata": {},
   "outputs": [],
   "source": [
    "#include pip!!!!"
   ]
  },
  {
   "cell_type": "code",
   "execution_count": 4,
   "id": "e35dfa42",
   "metadata": {},
   "outputs": [],
   "source": [
    "from flask import Flask\n",
    "import fitz\n",
    "#import PyPDF2\n",
    "import re\n",
    "import io\n",
    "import pdfplumber\n",
    "from bidi.algorithm import get_display"
   ]
  },
  {
   "cell_type": "code",
   "execution_count": 42,
   "id": "f274ab41",
   "metadata": {},
   "outputs": [],
   "source": [
    "def readFile():\n",
    "    with open(r'H:\\Final Project\\בטיחות.pdf', 'rb') as file:\n",
    "        pdf_data = file.read()\n",
    "        with pdfplumber.open(io.BytesIO(pdf_data)) as pdf:\n",
    "            text = \"\"\n",
    "            num_pages = len(pdf.pages)\n",
    "            for page in pdf.pages:\n",
    "                page_text = page.extract_text()\n",
    "                rtl_text = get_display(page_text)\n",
    "                text += rtl_text\n",
    "                new_text = text.replace(\"Ê\", \" \")\n",
    "\n",
    "    return new_text, num_pages\n",
    "\n",
    "# Usage example\n",
    "text, num_pages = readFile()\n",
    "#print(rtl_text)"
   ]
  },
  {
   "cell_type": "code",
   "execution_count": 43,
   "id": "aee114de",
   "metadata": {},
   "outputs": [],
   "source": [
    "# num pages - number a pages in the file\n",
    "# text - the text from the file"
   ]
  },
  {
   "cell_type": "code",
   "execution_count": 44,
   "id": "241bedda",
   "metadata": {},
   "outputs": [],
   "source": [
    "#function to get the print date"
   ]
  },
  {
   "cell_type": "code",
   "execution_count": 45,
   "id": "ef84807f",
   "metadata": {},
   "outputs": [],
   "source": [
    "def getDate(text):\n",
    "    patterndate = r'תאריך הדפסה:(\\d{2}/\\d{2}/\\d{4})'\n",
    "\n",
    "    match = re.search(patterndate, text)\n",
    "    date = \"\"\n",
    "    if match:\n",
    "        date = match.group(1)\n",
    "    return date"
   ]
  },
  {
   "cell_type": "code",
   "execution_count": 46,
   "id": "df691407",
   "metadata": {},
   "outputs": [],
   "source": [
    "#function to get the symbole"
   ]
  },
  {
   "cell_type": "code",
   "execution_count": 47,
   "id": "76d59063",
   "metadata": {},
   "outputs": [],
   "source": [
    "def getSymbole(text):\n",
    "    semelMosad = r'המוסד:\\s*(.*?)(?=\\s+עץ הדעת)'\n",
    "    match = re.findall(semelMosad, text)\n",
    "    return match[0]"
   ]
  },
  {
   "cell_type": "code",
   "execution_count": 48,
   "id": "e168cf63",
   "metadata": {},
   "outputs": [],
   "source": [
    "# function to get address and symbole"
   ]
  },
  {
   "cell_type": "code",
   "execution_count": 49,
   "id": "69c85b8f",
   "metadata": {},
   "outputs": [],
   "source": [
    "def getAddressAndSymbole(text):\n",
    "    pattern = r'המוסד:\\s*(.*?)(?=\\s+מנהל המוסד)'\n",
    "    match = re.search(pattern, text).group(1)\n",
    "    return match"
   ]
  },
  {
   "cell_type": "code",
   "execution_count": 50,
   "id": "9e5e1d5f",
   "metadata": {},
   "outputs": [],
   "source": [
    "# get only the neighborhood"
   ]
  },
  {
   "cell_type": "code",
   "execution_count": 51,
   "id": "e9593ec8",
   "metadata": {},
   "outputs": [],
   "source": [
    "def getNeighborhood(text):\n",
    "    pattern = r'עץ הדעת (.*?),'\n",
    "    match = re.search(pattern, getAddressAndSymbole(text))\n",
    "    if match:\n",
    "        extracted_text = match.group(1)\n",
    "        return extracted_text\n",
    "    else:\n",
    "        return \"Pattern not found in the text.\""
   ]
  },
  {
   "cell_type": "code",
   "execution_count": 58,
   "id": "2c9c7707",
   "metadata": {
    "scrolled": true
   },
   "outputs": [
    {
     "name": "stdout",
     "output_type": "stream",
     "text": [
      "\n",
      " \n",
      "\n",
      "הבטחת תנאים בטיחותיים במוסדות חינוך תאריך ביצוע המבדק:15/11/2022 \n",
      "סיבת ביצוע המבדק: בקרה \n",
      "דו''ח סיכום מבדק בגן ילדים\n",
      "המוסד:  632083עץ הדעת קהילות יעקב, קהילות בן יעקב 11 אופקים  מנהל המוסד:   מפקח המוסד: רות סנאור  מספר כיתות:  1 מספר תלמידים:  24\n",
      "משתתף במבדק מטעם שם המשתתף תפקיד\n",
      "גן ילדים נעמה בארי  מזכירת בית הספר \n",
      "\n",
      "קדימות1 :\n",
      "מס' נושא הבדיקה תת נושא מספר סעיף סעיף ברשימת מבדק הממצא מיקומו מהותו תמונה\n",
      "1 אלמנטים וחומרים  מפגעים קבועים 5.5   ארונות, ספריות וכונניות יהיו מקובעים למניעת התהפכות. ארון לא מקובע בממ\"ד  הגן וכו סכנת פגיעה  \n",
      "במבנה וניידים\n",
      "2 חצר המוסד שבילים    3.22השבילים משערי הכניסה לבניין, דרכי הגישה והשטחים בחצר  מהמורות שקעים בחצר חולית   סכנת מעידה 399849\n",
      "? כל אלה יהיו סלולים או מרוצפים או  כבושים, ללא מהמורות  וכו  בחצר המתקנים\n",
      "ובליטות, ופניהם מחוספסים, למניעת החלקה.\n",
      "3 חצר המוסד תשתית    3.4לא יהיו מקומות ללא ניקוז מתאים שיאפשרו שלוליות ומים  שלוליות מים  בחצר המתקנים סכנת פגיעה  \n",
      "עומדים. ללא ניקוז \n",
      "\n",
      " \n",
      "\n",
      "קדימות1 :\n",
      "מס' נושא הבדיקה תת נושא מספר סעיף סעיף ברשימת מבדק הממצא מיקומו מהותו תמונה\n",
      "4 תכולה וארגון הכיתות אחסון חומרי  7.13 כל חומרי הניקוי והחיטוי יוחזקו בארון נפרד ונעול ומפתח הארון  חומרי ניקוי ללא  בארון מטבח  סכנת פגיעה  \n",
      "ניקוי יימצא בידי הגננת, בידי הסייעת ובידי אב הבית בלבד. אם אין  נעילה  בכיתת הגן\n",
      "ארון מיוחד לכך בגן, הם ידאגו, שחומרי הניקוי והחיטוי יימצאו \n",
      "מעבר להישג ידם של הילדים ובנפרד ממזון, וכן שיהיו מאוחסנים \n",
      "באופן שאין חשש של נפילה או שפיכה.\n",
      "קדימות2 :\n",
      "מס' נושא הבדיקה תת נושא מספר סעיף סעיף ברשימת מבדק הממצא מיקומו מהותו תמונה\n",
      "1 תכולה וארגון הכיתות בניין וכיתות גן  7.3  שולחנות ופרטי ריהוט אחרים יהיו בעלי פינות מעוגלות. עשויים  ריהוט  עם פינות  בכיתת הגן   \n",
      "הילדים מחומר לא שביר. חדות  בחלקו\n",
      "\n"
     ]
    }
   ],
   "source": [
    "def sortText(text, num_pages):\n",
    "    #Deleting header and footer\n",
    "    sentence_to_remove = \" מדינת ישראל\"\n",
    "    result = text.replace(sentence_to_remove, \"\")\n",
    "    sentence_to_remove = f\"משרד החינוך תאריך הדפסה:{getDate(text)} \"\n",
    "    result = result.replace(sentence_to_remove, \"\")\n",
    "    sentence_to_remove = f\"המוסד: {getSymbole(text)} עץ הדעת {getNeighborhood(text)}  מפקח בטיחות: חרדי\"\n",
    "    result = result.replace(sentence_to_remove, \"\")\n",
    "    num = 1;\n",
    "    while(num <= num_pages):\n",
    "        sentence_to_remove = f\"עמוד {num} מתוך {num_pages}\"\n",
    "        result = result.replace(sentence_to_remove, \"\")\n",
    "        num += 1\n",
    "    \n",
    "    #Deleting the beginning of the file\n",
    "    start_word = \"ממצאים לפי תחומי בדיקה וקדימות טיפול\"\n",
    "    end_word = \"פירוט הממצאים\"\n",
    "    start_index = result.find(start_word)\n",
    "    end_index = result.find(end_word) + len(end_word)\n",
    "    result = result[:start_index] + result[end_index:]\n",
    "    \n",
    "    #Deleting the end of the file\n",
    "    split_text = result.split(\"הערה לפרטי המסגרת:\")\n",
    "    result = split_text[0]\n",
    "    return result\n",
    "\n",
    "new_text = sortText(text, num_pages)\n",
    "print(new_text)"
   ]
  },
  {
   "cell_type": "code",
   "execution_count": 59,
   "id": "4e8d97dd",
   "metadata": {},
   "outputs": [],
   "source": [
    "#only קדימות1"
   ]
  },
  {
   "cell_type": "code",
   "execution_count": 60,
   "id": "849d2cb0",
   "metadata": {},
   "outputs": [
    {
     "name": "stdout",
     "output_type": "stream",
     "text": [
      "מס' נושא הבדיקה תת נושא מספר סעיף סעיף ברשימת מבדק הממצא מיקומו מהותו תמונה\n",
      "1 אלמנטים וחומרים  מפגעים קבועים 5.5   ארונות, ספריות וכונניות יהיו מקובעים למניעת התהפכות. ארון לא מקובע בממ\"ד  הגן וכו סכנת פגיעה  \n",
      "במבנה וניידים\n",
      "2 חצר המוסד שבילים    3.22השבילים משערי הכניסה לבניין, דרכי הגישה והשטחים בחצר  מהמורות שקעים בחצר חולית   סכנת מעידה 399849\n",
      "? כל אלה יהיו סלולים או מרוצפים או  כבושים, ללא מהמורות  וכו  בחצר המתקנים\n",
      "ובליטות, ופניהם מחוספסים, למניעת החלקה.\n",
      "3 חצר המוסד תשתית    3.4לא יהיו מקומות ללא ניקוז מתאים שיאפשרו שלוליות ומים  שלוליות מים  בחצר המתקנים סכנת פגיעה  \n",
      "עומדים. ללא ניקוז \n",
      "\n",
      " \n",
      "\n",
      "קדימות1 :\n",
      "מס' נושא הבדיקה תת נושא מספר סעיף סעיף ברשימת מבדק הממצא מיקומו מהותו תמונה\n",
      "4 תכולה וארגון הכיתות אחסון חומרי  7.13 כל חומרי הניקוי והחיטוי יוחזקו בארון נפרד ונעול ומפתח הארון  חומרי ניקוי ללא  בארון מטבח  סכנת פגיעה  \n",
      "ניקוי יימצא בידי הגננת, בידי הסייעת ובידי אב הבית בלבד. אם אין  נעילה  בכיתת הגן\n",
      "ארון מיוחד לכך בגן, הם ידאגו, שחומרי הניקוי והחיטוי יימצאו \n",
      "מעבר להישג ידם של הילדים ובנפרד ממזון, וכן שיהיו מאוחסנים \n",
      "באופן שאין חשש של נפילה או שפיכה.\n"
     ]
    }
   ],
   "source": [
    "def PrecedenceOne(text):\n",
    "    start = 'קדימות1 :'\n",
    "    end = 'קדימות2 :'\n",
    "\n",
    "    start_index = text.find(start)\n",
    "    end_index = text.find(end)\n",
    "\n",
    "    if start_index != -1 and end_index != -1:\n",
    "        return (text[start_index + len(start):end_index].strip())\n",
    "        #print(extracted_textK1)\n",
    "    else:\n",
    "        return \"error\"\n",
    "t = PrecedenceOne(new_text)\n",
    "print(t)"
   ]
  },
  {
   "cell_type": "code",
   "execution_count": 61,
   "id": "262b616a",
   "metadata": {},
   "outputs": [],
   "source": [
    "#API"
   ]
  },
  {
   "cell_type": "code",
   "execution_count": null,
   "id": "0fa468c2",
   "metadata": {},
   "outputs": [],
   "source": [
    "# Importing flask module in the project is mandatory\n",
    "# An object of Flask class is our WSGI application.\n",
    "\n",
    "\n",
    "# Flask constructor takes the name of\n",
    "# current module (__name__) as argument.\n",
    "app = Flask(__name__)\n",
    "\n",
    "# The route() function of the Flask class is a decorator,\n",
    "# which tells the application which URL should call\n",
    "# the associated function.\n",
    "@app.route('/')\n",
    "# ‘/’ URL is bound with hello_world() function.\n",
    "def hello_world():\n",
    "    return read_rtl_pdf()\n",
    "\n",
    "# main driver function\n",
    "if __name__ == '__main__':\n",
    "\n",
    "    # run() method of Flask class runs the application\n",
    "    # on the local development server.\n",
    "    app.run()\n"
   ]
  }
 ],
 "metadata": {
  "kernelspec": {
   "display_name": "Python 3 (ipykernel)",
   "language": "python",
   "name": "python3"
  },
  "language_info": {
   "codemirror_mode": {
    "name": "ipython",
    "version": 3
   },
   "file_extension": ".py",
   "mimetype": "text/x-python",
   "name": "python",
   "nbconvert_exporter": "python",
   "pygments_lexer": "ipython3",
   "version": "3.9.7"
  }
 },
 "nbformat": 4,
 "nbformat_minor": 5
}
